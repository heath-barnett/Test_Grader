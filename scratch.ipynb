{
 "cells": [
  {
   "cell_type": "code",
   "execution_count": 17,
   "metadata": {
    "collapsed": true
   },
   "outputs": [],
   "source": [
    "import pandas as pd"
   ]
  },
  {
   "cell_type": "code",
   "execution_count": 30,
   "metadata": {},
   "outputs": [
    {
     "name": "stdout",
     "output_type": "stream",
     "text": [
      "nan\nnan\n30070311\n30057136\n30038958\n30053837\n30048704\n30028085\n30050579\n30071041\n30058385\n30067597\n30031695\n30050554\n30032582\n30037497\n30014062\n30040402\n30040028\n30062346\n30057330\n30023089\n30071148\n30054292\n30054068\n30040389\n30057442\n30067477\n30044882\n30029339\n30036400\n30058040\n17642592\n30045029\n30061895\n30059130\n30025331\n30038994\n30060613\n30020074\n30050347\n30057594\n30028112\n30048076\n30066951\n30032776\n30056898\n30054714\n30049022\n30049560\n30035929\n30082997\n30034424\n30059761\n30066480\n30057772\n30020307\n30067605\n30051442\n30032781\n30054814\n30062127\n30005641\n30051384\n30053076\n30026752\n30019851\n30067857\n17701664\n30054282\n30056530\n30031683\n30046976\n30064227\n"
     ]
    }
   ],
   "source": [
    "# Location of file\n",
    "Location = 'data/results_grid.xlsx'\n",
    "\n",
    "# Parse a specific sheet\n",
    "df = pd.read_excel(Location,0,converters={'ID Number':str})\n",
    "for i, row in df.iterrows():\n",
    "    print(row['ID Number'])"
   ]
  },
  {
   "cell_type": "code",
   "execution_count": null,
   "metadata": {},
   "outputs": [],
   "source": [
    ""
   ]
  }
 ],
 "metadata": {
  "kernelspec": {
   "display_name": "Python 2",
   "language": "python",
   "name": "python2"
  },
  "language_info": {
   "codemirror_mode": {
    "name": "ipython",
    "version": 2.0
   },
   "file_extension": ".py",
   "mimetype": "text/x-python",
   "name": "python",
   "nbconvert_exporter": "python",
   "pygments_lexer": "ipython2",
   "version": "2.7.6"
  }
 },
 "nbformat": 4,
 "nbformat_minor": 0
}