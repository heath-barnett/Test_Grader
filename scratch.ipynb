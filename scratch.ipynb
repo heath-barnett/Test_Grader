{
 "cells": [
  {
   "cell_type": "code",
   "execution_count": 1,
   "metadata": {
    "collapsed": true
   },
   "outputs": [],
   "source": [
    "import pandas as pd"
   ]
  },
  {
   "cell_type": "code",
   "execution_count": 172,
   "metadata": {},
   "outputs": [],
   "source": [
    "# Location of file\n",
    "Location = 'data/results_grid.xlsx'\n",
    "\n",
    "# Parse a specific sheet\n",
    "df = pd.read_excel(Location,header=0)\n",
    "keys = df.loc[:1,'Q 1':]\n",
    "results = df.loc[2:]"
   ]
  },
  {
   "cell_type": "code",
   "execution_count": 171,
   "metadata": {},
   "outputs": [
    {
     "name": "stdout",
     "output_type": "stream",
     "text": [
      "\\begin{tabular}{lll}\n\\toprule\n{} & User Response & Correct Response \\\\\n\\midrule\nQ 1  &             A &                A \\\\\nQ 2  &             B &                B \\\\\nQ 3  &             D &                E \\\\\nQ 4  &             A &                B \\\\\nQ 5  &             B &                B \\\\\nQ 6  &             A &                A \\\\\nQ 7  &             C &                D \\\\\nQ 8  &             E &                E \\\\\nQ 9  &             D &                D \\\\\nQ 10 &             A &                A \\\\\nQ 11 &             A &                E \\\\\nQ 12 &             C &                B \\\\\nQ 13 &             A &                A \\\\\nQ 14 &             B &                B \\\\\nQ 15 &             B &                C \\\\\nQ 16 &             E &                C \\\\\nQ 17 &             D &                D \\\\\nQ 18 &             E &                E \\\\\nQ 19 &             C &                C \\\\\nQ 20 &             B &                D \\\\\n\\bottomrule\n\\end{tabular}\n\n"
     ]
    }
   ],
   "source": [
    "ex = results.ix[5,'Q 1':]\n",
    "xe = keys.ix[0]\n",
    "result = pd.concat([ex, xe], axis=1)\n",
    "result.columns = ['User Response', 'Correct Response']\n",
    "gradeTable=pd.DataFrame(result).to_latex()\n"
   ]
  },
  {
   "cell_type": "code",
   "execution_count": 201,
   "metadata": {},
   "outputs": [
    {
     "name": "stdout",
     "output_type": "stream",
     "text": [
      "\\begin{tabular}{lll}\n\\toprule\n{} & User Response & Correct Response \\\\\n\\midrule\nQ 1  &             D &                D \\\\\nQ 2  &             A &                A \\\\\nQ 3  &             A &                A \\\\\nQ 4  &             E &                E \\\\\nQ 5  &             B &                B \\\\\nQ 6  &             D &                D \\\\\nQ 7  &             D &                D \\\\\nQ 8  &             E &                E \\\\\nQ 9  &             A &                A \\\\\nQ 10 &             A &                A \\\\\nQ 11 &             D &                D \\\\\nQ 12 &             E &                E \\\\\nQ 13 &             B &                B \\\\\nQ 14 &             D &                D \\\\\nQ 15 &             C &                C \\\\\nQ 16 &             B &                B \\\\\nQ 17 &             E &                E \\\\\nQ 18 &             C &                C \\\\\nQ 19 &             B &                B \\\\\nQ 20 &             E &                E \\\\\n\\bottomrule\n\\end{tabular}\n\n"
     ]
    }
   ],
   "source": [
    "for i, row in results.iterrows():\n",
    "    df1 = row['Q 1':]\n",
    "    key = row['Key Name']\n",
    "    if key == 'A':\n",
    "        keyid = 0\n",
    "    else:\n",
    "        keyid = 1\n",
    "    ans = keys.ix[keyid]\n",
    "    gradeTable = pd.concat([df1, ans], axis=1)\n",
    "    gradeTable.columns = ['User Response', 'Correct Response']\n",
    "    gradeTable=pd.DataFrame(gradeTable).to_latex()\n",
    "    if i ==2:\n",
    "        break\n",
    "\n",
    "print(gradeTable)"
   ]
  },
  {
   "cell_type": "code",
   "execution_count": null,
   "metadata": {},
   "outputs": [],
   "source": [
    ""
   ]
  }
 ],
 "metadata": {
  "kernelspec": {
   "display_name": "Python 2",
   "language": "python",
   "name": "python2"
  },
  "language_info": {
   "codemirror_mode": {
    "name": "ipython",
    "version": 2.0
   },
   "file_extension": ".py",
   "mimetype": "text/x-python",
   "name": "python",
   "nbconvert_exporter": "python",
   "pygments_lexer": "ipython2",
   "version": "2.7.6"
  }
 },
 "nbformat": 4,
 "nbformat_minor": 0
}